{
 "cells": [
  {
   "cell_type": "markdown",
   "metadata": {},
   "source": [
    "Suorce is question-answer pair and target is a set of distractors( varies from 1 to 3).\n",
    "Approch: I will consider both the sources and will take one distractor as target. For tokenizing I am doing from scratch using pandas, lamda function and dictionary. My model will be a encoder-decoder model."
   ]
  },
  {
   "cell_type": "code",
   "execution_count": 1,
   "metadata": {
    "_cell_guid": "b1076dfc-b9ad-4769-8c92-a6c4dae69d19",
    "_uuid": "8f2839f25d086af736a60e9eeb907d3b93b6e0e5"
   },
   "outputs": [
    {
     "name": "stdout",
     "output_type": "stream",
     "text": [
      "/kaggle/input/mcq-distractors/Train.csv\n",
      "/kaggle/input/mcq-distractors/Test.csv\n"
     ]
    }
   ],
   "source": [
    "# This Python 3 environment comes with many helpful analytics libraries installed\n",
    "# It is defined by the kaggle/python docker image: https://github.com/kaggle/docker-python\n",
    "# For example, here's several helpful packages to load in \n",
    "\n",
    "import numpy as np # linear algebra\n",
    "import pandas as pd # data processing, CSV file I/O (e.g. pd.read_csv)\n",
    "\n",
    "# Input data files are available in the \"../input/\" directory.\n",
    "# For example, running this (by clicking run or pressing Shift+Enter) will list all files under the input directory\n",
    "\n",
    "import os\n",
    "for dirname, _, filenames in os.walk('/kaggle/input'):\n",
    "    for filename in filenames:\n",
    "        print(os.path.join(dirname, filename))\n",
    "\n",
    "# Any results you write to the current directory are saved as output."
   ]
  },
  {
   "cell_type": "code",
   "execution_count": 2,
   "metadata": {
    "_cell_guid": "79c7e3d0-c299-4dcb-8224-4455121ee9b0",
    "_uuid": "d629ff2d2480ee46fbb7e2d37f6b5fab8052498a"
   },
   "outputs": [
    {
     "name": "stderr",
     "output_type": "stream",
     "text": [
      "Using TensorFlow backend.\n"
     ]
    }
   ],
   "source": [
    "# import packages\n",
    "import os\n",
    "import sys\n",
    "import numpy as np\n",
    "import pandas as pd\n",
    "import string\n",
    "import re\n",
    "import tensorflow as tf\n",
    "import keras.backend as K\n",
    "from keras.preprocessing.text import Tokenizer\n",
    "from keras.layers import Input, Embedding, SimpleRNN, GRU, LSTM, Concatenate, Bidirectional, Dense, Activation\n",
    "from keras.models import Model\n",
    "from sklearn.model_selection import train_test_split"
   ]
  },
  {
   "cell_type": "code",
   "execution_count": 3,
   "metadata": {},
   "outputs": [
    {
     "name": "stdout",
     "output_type": "stream",
     "text": [
      "                                            question  \\\n",
      "0                                Meals can be served   \n",
      "1           It can be inferred from the passage that   \n",
      "2     The author called Tommy 's parents in order to   \n",
      "3           It can be inferred from the passage that   \n",
      "4  How can we deal with snake wounds according to...   \n",
      "\n",
      "                                         answer_text  \\\n",
      "0                             in rooms at 9:00 p. m.   \n",
      "1  The local government can deal with the problem...   \n",
      "2         help them realize their influence on Tommy   \n",
      "3       the writer is not very willing to use idioms   \n",
      "4                        Stay calm and do n't move .   \n",
      "\n",
      "                                          distractor  \n",
      "0                   'outside the room at 3:00 p. m.'  \n",
      "1                   'If some tragedies occur again '  \n",
      "2               'blame Tommy for his failing grades'  \n",
      "3  'idioms are the most important part in a langu...  \n",
      "4          'Cut the wound and suck the poison out .'  \n"
     ]
    }
   ],
   "source": [
    "data = pd.read_csv('/kaggle/input/mcq-distractors/Train.csv').iloc[:,:3]\n",
    "print(data.head())"
   ]
  },
  {
   "cell_type": "code",
   "execution_count": 4,
   "metadata": {},
   "outputs": [],
   "source": [
    "# drop duplicates\n",
    "\n",
    "data.drop_duplicates(inplace=True)"
   ]
  },
  {
   "cell_type": "code",
   "execution_count": 5,
   "metadata": {},
   "outputs": [
    {
     "name": "stdout",
     "output_type": "stream",
     "text": [
      "                                            question  \\\n",
      "0                                Meals can be served   \n",
      "1           It can be inferred from the passage that   \n",
      "2      The author called Tommy s parents in order to   \n",
      "3           It can be inferred from the passage that   \n",
      "4  How can we deal with snake wounds according to...   \n",
      "\n",
      "                                         answer_text  \\\n",
      "0                             in rooms at 9:00 p. m.   \n",
      "1  The local government can deal with the problem...   \n",
      "2         help them realize their influence on Tommy   \n",
      "3       the writer is not very willing to use idioms   \n",
      "4                         Stay calm and do nt move .   \n",
      "\n",
      "                                         distractor  \n",
      "0                    outside the room at 3:00 p. m.  \n",
      "1                    If some tragedies occur again   \n",
      "2                blame Tommy for his failing grades  \n",
      "3  idioms are the most important part in a language  \n",
      "4           Cut the wound and suck the poison out .  \n"
     ]
    }
   ],
   "source": [
    "# remove quotes\n",
    "\n",
    "data['question'] = data['question'].apply(lambda x: re.sub(\"'\", '', x))\n",
    "data['answer_text'] = data['answer_text'].apply(lambda x: re.sub(\"'\", '', x))\n",
    "data['distractor'] = data['distractor'].apply(lambda x: re.sub(\"'\", '', x))\n",
    "print(data.head())"
   ]
  },
  {
   "cell_type": "code",
   "execution_count": 6,
   "metadata": {},
   "outputs": [
    {
     "name": "stdout",
     "output_type": "stream",
     "text": [
      "31499\n",
      "31419\n"
     ]
    }
   ],
   "source": [
    "# filter long texts\n",
    "\n",
    "data['question_len'] = data['question'].apply(lambda x: len(x.split()))\n",
    "data['answer_len'] = data['answer_text'].apply(lambda x: len(x.split()))\n",
    "data['distractor_len'] = data['distractor'].apply(lambda x: len(x.split()))\n",
    "print(len(data))\n",
    "data = data[data['question_len']<=25]\n",
    "data = data[data['answer_len']<=25]\n",
    "data = data[data['distractor_len']<=25]\n",
    "print(len(data))\n",
    "\n",
    "# max question and answer length\n",
    "max_question_len = 25\n",
    "max_ans_len = 25 \n",
    "max_dis_len = 26 # i will add START_ and _END # decoder input will have the START_ tokens and decoder output will have the _END"
   ]
  },
  {
   "cell_type": "code",
   "execution_count": 7,
   "metadata": {},
   "outputs": [
    {
     "name": "stdout",
     "output_type": "stream",
     "text": [
      "                                            question  \\\n",
      "0                                meals can be served   \n",
      "1           it can be inferred from the passage that   \n",
      "2      the author called tommy s parents in order to   \n",
      "3           it can be inferred from the passage that   \n",
      "4  how can we deal with snake wounds according to...   \n",
      "\n",
      "                                         answer_text  \\\n",
      "0                             in rooms at 9:00 p. m.   \n",
      "1  the local government can deal with the problem...   \n",
      "2         help them realize their influence on tommy   \n",
      "3       the writer is not very willing to use idioms   \n",
      "4                         stay calm and do nt move .   \n",
      "\n",
      "                                         distractor  question_len  answer_len  \\\n",
      "0                    outside the room at 3:00 p. m.             4           6   \n",
      "1                    if some tragedies occur again              8          15   \n",
      "2                blame tommy for his failing grades             9           7   \n",
      "3  idioms are the most important part in a language             8           9   \n",
      "4           cut the wound and suck the poison out .            12           7   \n",
      "\n",
      "   distractor_len  \n",
      "0               7  \n",
      "1               5  \n",
      "2               6  \n",
      "3               9  \n",
      "4               9  \n"
     ]
    }
   ],
   "source": [
    "# convert to lower \n",
    "\n",
    "data['question'] = data['question'].apply(lambda x: x.lower())\n",
    "data['answer_text'] = data['answer_text'].apply(lambda x: x.lower())\n",
    "data['distractor'] = data['distractor'].apply(lambda x: x.lower())\n",
    "print(data.head())"
   ]
  },
  {
   "cell_type": "code",
   "execution_count": 8,
   "metadata": {},
   "outputs": [
    {
     "name": "stdout",
     "output_type": "stream",
     "text": [
      "                                            question  \\\n",
      "0                                meals can be served   \n",
      "1           it can be inferred from the passage that   \n",
      "2      the author called tommy s parents in order to   \n",
      "3           it can be inferred from the passage that   \n",
      "4  how can we deal with snake wounds according to...   \n",
      "\n",
      "                                         answer_text  \\\n",
      "0                                in rooms at 900 p m   \n",
      "1  the local government can deal with the problem...   \n",
      "2         help them realize their influence on tommy   \n",
      "3       the writer is not very willing to use idioms   \n",
      "4                          stay calm and do nt move    \n",
      "\n",
      "                                         distractor  question_len  answer_len  \\\n",
      "0                       outside the room at 300 p m             4           6   \n",
      "1                    if some tragedies occur again              8          15   \n",
      "2                blame tommy for his failing grades             9           7   \n",
      "3  idioms are the most important part in a language             8           9   \n",
      "4            cut the wound and suck the poison out             12           7   \n",
      "\n",
      "   distractor_len  \n",
      "0               7  \n",
      "1               5  \n",
      "2               6  \n",
      "3               9  \n",
      "4               9  \n"
     ]
    }
   ],
   "source": [
    "# exclude special characters\n",
    "\n",
    "special_char = string.punctuation\n",
    "data['question'] = data['question'].apply(lambda x: ''.join(ch for ch in x if ch not in special_char))\n",
    "data['answer_text'] = data['answer_text'].apply(lambda x: ''.join(ch for ch in x if ch not in special_char))\n",
    "data['distractor'] = data['distractor'].apply(lambda x: ''.join(ch for ch in x if ch not in special_char))\n",
    "print(data.head())"
   ]
  },
  {
   "cell_type": "code",
   "execution_count": 9,
   "metadata": {},
   "outputs": [
    {
     "name": "stdout",
     "output_type": "stream",
     "text": [
      "                                            question  \\\n",
      "0                                meals can be served   \n",
      "1           it can be inferred from the passage that   \n",
      "2      the author called tommy s parents in order to   \n",
      "3           it can be inferred from the passage that   \n",
      "4  how can we deal with snake wounds according to...   \n",
      "\n",
      "                                         answer_text  \\\n",
      "0                                in rooms at 900 p m   \n",
      "1  the local government can deal with the problem...   \n",
      "2         help them realize their influence on tommy   \n",
      "3       the writer is not very willing to use idioms   \n",
      "4                          stay calm and do nt move    \n",
      "\n",
      "                                          distractor  question_len  \\\n",
      "0            START_ outside the room at 300 p m _END             4   \n",
      "1         START_ if some tragedies occur again  _END             8   \n",
      "2     START_ blame tommy for his failing grades _END             9   \n",
      "3  START_ idioms are the most important part in a...             8   \n",
      "4  START_ cut the wound and suck the poison out  ...            12   \n",
      "\n",
      "   answer_len  distractor_len  \n",
      "0           6               7  \n",
      "1          15               5  \n",
      "2           7               6  \n",
      "3           9               9  \n",
      "4           7               9  \n"
     ]
    }
   ],
   "source": [
    "# add START_ and _END tokens\n",
    "\n",
    "data['distractor'] = data['distractor'].apply(lambda x: 'START_ '+x+' _END')\n",
    "print(data.head())"
   ]
  },
  {
   "cell_type": "code",
   "execution_count": 10,
   "metadata": {},
   "outputs": [],
   "source": [
    "# creating question and answer vocabulary\n",
    "all_question_words = []\n",
    "for i in data['question']:\n",
    "    all_question_words += i.split()\n",
    "\n",
    "all_question_words = list(set(all_question_words))\n",
    "\n",
    "all_ans_words = []\n",
    "for i in data['answer_text']:\n",
    "    all_ans_words += i.split()\n",
    "    \n",
    "all_ans_words = list(set(all_ans_words))\n",
    "\n",
    "all_dis_words = []\n",
    "for i in data['distractor']:\n",
    "    all_dis_words += i.split()\n",
    "    \n",
    "all_dis_words = list(set(all_dis_words))"
   ]
  },
  {
   "cell_type": "code",
   "execution_count": 11,
   "metadata": {},
   "outputs": [],
   "source": [
    "source_words = sorted(list(set(all_question_words +all_ans_words)))\n",
    "target_words = sorted(all_dis_words)\n",
    "\n",
    "num_source_tokens = len(source_words)\n",
    "num_target_tokens = len(target_words)\n"
   ]
  },
  {
   "cell_type": "code",
   "execution_count": 12,
   "metadata": {},
   "outputs": [],
   "source": [
    "# tokenizing words\n",
    "\n",
    "source_tokens = dict([(word, i+1) for i, word in enumerate(source_words)])\n",
    "target_tokens = dict([(word, i+1) for i, word in enumerate(target_words)])"
   ]
  },
  {
   "cell_type": "code",
   "execution_count": 13,
   "metadata": {},
   "outputs": [],
   "source": [
    "# reverse tokenizing\n",
    "\n",
    "reverse_source_tokens = dict([(i,word) for word, i in source_tokens.items()])\n",
    "reverse_target_tokens = dict([(i,word) for word, i in target_tokens.items()])\n"
   ]
  },
  {
   "cell_type": "code",
   "execution_count": 14,
   "metadata": {},
   "outputs": [],
   "source": [
    "# train and test data \n",
    "\n",
    "source1, source2, target = data['question'], data['answer_text'], data['distractor']\n",
    "source1_train, source1_test, source2_train, source2_test, target_train, target_test = train_test_split(source1, source2, target, test_size=0.2, random_state=21)"
   ]
  },
  {
   "cell_type": "code",
   "execution_count": 15,
   "metadata": {},
   "outputs": [],
   "source": [
    "# function to generate batches as the entire data is to large to store at once. \n",
    "def generate_batch(X1, X2, y, batch_size=64):\n",
    "    while True:\n",
    "        for b in range(0, len(X1), batch_size):\n",
    "            encoder_source1_train = np.zeros((batch_size, max_question_len), dtype='float32')\n",
    "            encoder_source2_train = np.zeros((batch_size, max_ans_len), dtype='float32')\n",
    "            decoder_source_train = np.zeros((batch_size, max_dis_len), dtype='float32')\n",
    "            decoder_target_train = np.zeros((batch_size, max_dis_len, num_target_tokens))\n",
    "            for i, (source1_text, source2_text, target_text) in enumerate(zip(X1[b:b+batch_size], X2[b:b+batch_size], y[b:b+batch_size])):\n",
    "                for t, word in enumerate(source1_text.split()):\n",
    "                    encoder_source1_train[i, t] = source_tokens[word]\n",
    "                for t, word in enumerate(source2_text.split()):\n",
    "                    encoder_source2_train[i, t] = source_tokens[word]\n",
    "                for t, word in enumerate(target_text.split()):\n",
    "                    if t<len(target_text.split())-1:\n",
    "                        decoder_source_train[i, t] = target_tokens[word]\n",
    "                    if t>0:\n",
    "                        decoder_target_train[i, t-1, target_tokens[word]-1] = 1\n",
    "            yield ([encoder_source1_train, encoder_source2_train, decoder_source_train], decoder_target_train)\n",
    " "
   ]
  },
  {
   "cell_type": "markdown",
   "metadata": {},
   "source": [
    "Encoder-Decoder network"
   ]
  },
  {
   "attachments": {
    "image.png": {
     "image/png": "[encoded data removed]"
    }
   },
   "cell_type": "markdown",
   "metadata": {},
   "source": [
    "![image.png](attachment:image.png)"
   ]
  },
  {
   "cell_type": "code",
   "execution_count": 16,
   "metadata": {},
   "outputs": [],
   "source": [
    "latent_dim = 300\n",
    "\n",
    "# encoder\n",
    "encoder_input1 = Input(shape=(None,))\n",
    "encoder_input2 = Input(shape=(None,))\n",
    "encoder_embedding = Embedding(num_source_tokens, latent_dim, mask_zero=True)\n",
    "source1_encoded_embedding = encoder_embedding(encoder_input1)\n",
    "source2_encoded_embedding = encoder_embedding(encoder_input2)\n",
    "encoder_LSTM = LSTM(latent_dim, return_state = True)\n",
    "source1_encoder_outputs, source1_state_h, source1_state_c = encoder_LSTM(source1_encoded_embedding)\n",
    "source2_encoder_outputs, source2_state_h, source2_state_c = encoder_LSTM(source2_encoded_embedding)\n",
    "source_h_state = Concatenate(axis=-1)([source1_state_h, source2_state_h])\n",
    "source_c_state = Concatenate(axis=-1)([source1_state_c, source2_state_c])\n",
    "encoder_state = [source_h_state, source_c_state]"
   ]
  },
  {
   "cell_type": "code",
   "execution_count": 17,
   "metadata": {},
   "outputs": [],
   "source": [
    "# decoder\n",
    "\n",
    "decoder_input = Input(shape=(None,))\n",
    "decoder_embedding = Embedding(num_target_tokens, latent_dim, mask_zero=True)\n",
    "decoded_embedding = decoder_embedding(decoder_input)\n",
    "decoder_LSTM = LSTM(600, return_state=True, return_sequences=True)\n",
    "decoder_output, _, _ = decoder_LSTM(decoded_embedding, initial_state = encoder_state)\n",
    "decoder_dense = Dense(num_target_tokens, activation='softmax')\n",
    "decoder_output = decoder_dense(decoder_output)"
   ]
  },
  {
   "cell_type": "code",
   "execution_count": 18,
   "metadata": {},
   "outputs": [
    {
     "name": "stdout",
     "output_type": "stream",
     "text": [
      "Model: \"model_1\"\n",
      "__________________________________________________________________________________________________\n",
      "Layer (type)                    Output Shape         Param #     Connected to                     \n",
      "==================================================================================================\n",
      "input_1 (InputLayer)            (None, None)         0                                            \n",
      "__________________________________________________________________________________________________\n",
      "input_2 (InputLayer)            (None, None)         0                                            \n",
      "__________________________________________________________________________________________________\n",
      "embedding_1 (Embedding)         (None, None, 300)    5685300     input_1[0][0]                    \n",
      "                                                                 input_2[0][0]                    \n",
      "__________________________________________________________________________________________________\n",
      "input_3 (InputLayer)            (None, None)         0                                            \n",
      "__________________________________________________________________________________________________\n",
      "lstm_1 (LSTM)                   [(None, 300), (None, 721200      embedding_1[0][0]                \n",
      "                                                                 embedding_1[1][0]                \n",
      "__________________________________________________________________________________________________\n",
      "embedding_2 (Embedding)         (None, None, 300)    4069800     input_3[0][0]                    \n",
      "__________________________________________________________________________________________________\n",
      "concatenate_1 (Concatenate)     (None, 600)          0           lstm_1[0][1]                     \n",
      "                                                                 lstm_1[1][1]                     \n",
      "__________________________________________________________________________________________________\n",
      "concatenate_2 (Concatenate)     (None, 600)          0           lstm_1[0][2]                     \n",
      "                                                                 lstm_1[1][2]                     \n",
      "__________________________________________________________________________________________________\n",
      "lstm_2 (LSTM)                   [(None, None, 600),  2162400     embedding_2[0][0]                \n",
      "                                                                 concatenate_1[0][0]              \n",
      "                                                                 concatenate_2[0][0]              \n",
      "__________________________________________________________________________________________________\n",
      "dense_1 (Dense)                 (None, None, 13566)  8153166     lstm_2[0][0]                     \n",
      "==================================================================================================\n",
      "Total params: 20,791,866\n",
      "Trainable params: 20,791,866\n",
      "Non-trainable params: 0\n",
      "__________________________________________________________________________________________________\n",
      "None\n"
     ]
    }
   ],
   "source": [
    "model = Model([encoder_input1, encoder_input2, decoder_input], decoder_output)\n",
    "print(model.summary())\n",
    "model.compile(optimizer='rmsprop', loss='categorical_crossentropy')"
   ]
  },
  {
   "cell_type": "code",
   "execution_count": 19,
   "metadata": {},
   "outputs": [
    {
     "name": "stderr",
     "output_type": "stream",
     "text": [
      "/opt/conda/lib/python3.6/site-packages/tensorflow_core/python/framework/indexed_slices.py:424: UserWarning: Converting sparse IndexedSlices to a dense Tensor of unknown shape. This may consume a large amount of memory.\n",
      "  \"Converting sparse IndexedSlices to a dense Tensor of unknown shape. \"\n"
     ]
    },
    {
     "name": "stdout",
     "output_type": "stream",
     "text": [
      "Epoch 1/25\n",
      "392/392 [==============================] - 100s 256ms/step - loss: 1.9092 - val_loss: 1.7937\n",
      "Epoch 2/25\n",
      "392/392 [==============================] - 98s 249ms/step - loss: 1.6986 - val_loss: 1.5075\n",
      "Epoch 3/25\n",
      "392/392 [==============================] - 98s 249ms/step - loss: 1.5958 - val_loss: 1.5084\n",
      "Epoch 4/25\n",
      "392/392 [==============================] - 99s 252ms/step - loss: 1.5160 - val_loss: 1.7533\n",
      "Epoch 5/25\n",
      "392/392 [==============================] - 98s 250ms/step - loss: 1.4431 - val_loss: 1.5938\n",
      "Epoch 6/25\n",
      "392/392 [==============================] - 98s 249ms/step - loss: 1.3696 - val_loss: 1.7246\n",
      "Epoch 7/25\n",
      "392/392 [==============================] - 98s 251ms/step - loss: 1.2979 - val_loss: 1.6272\n",
      "Epoch 8/25\n",
      "392/392 [==============================] - 97s 249ms/step - loss: 1.2266 - val_loss: 1.7392\n",
      "Epoch 9/25\n",
      "392/392 [==============================] - 98s 249ms/step - loss: 1.1553 - val_loss: 1.6247\n",
      "Epoch 10/25\n",
      "392/392 [==============================] - 98s 251ms/step - loss: 1.0850 - val_loss: 1.7540\n",
      "Epoch 11/25\n",
      "392/392 [==============================] - 97s 249ms/step - loss: 1.0171 - val_loss: 1.7066\n",
      "Epoch 12/25\n",
      "392/392 [==============================] - 98s 249ms/step - loss: 0.9502 - val_loss: 1.7906\n",
      "Epoch 13/25\n",
      "392/392 [==============================] - 98s 250ms/step - loss: 0.8861 - val_loss: 1.9149\n",
      "Epoch 14/25\n",
      "392/392 [==============================] - 98s 249ms/step - loss: 0.8260 - val_loss: 1.7358\n",
      "Epoch 15/25\n",
      "392/392 [==============================] - 98s 249ms/step - loss: 0.7691 - val_loss: 2.0680\n",
      "Epoch 16/25\n",
      "392/392 [==============================] - 99s 252ms/step - loss: 0.7152 - val_loss: 1.8461\n",
      "Epoch 17/25\n",
      "392/392 [==============================] - 98s 249ms/step - loss: 0.6640 - val_loss: 1.9476\n",
      "Epoch 18/25\n",
      "392/392 [==============================] - 98s 249ms/step - loss: 0.6175 - val_loss: 2.1086\n",
      "Epoch 19/25\n",
      "392/392 [==============================] - 98s 250ms/step - loss: 0.5744 - val_loss: 1.7794\n",
      "Epoch 20/25\n",
      "392/392 [==============================] - 98s 250ms/step - loss: 0.5359 - val_loss: 2.0183\n",
      "Epoch 21/25\n",
      "392/392 [==============================] - 97s 248ms/step - loss: 0.5009 - val_loss: 2.1059\n",
      "Epoch 22/25\n",
      "392/392 [==============================] - 98s 249ms/step - loss: 0.4685 - val_loss: 2.0606\n",
      "Epoch 23/25\n",
      "392/392 [==============================] - 98s 249ms/step - loss: 0.4388 - val_loss: 1.9802\n",
      "Epoch 24/25\n",
      "392/392 [==============================] - 98s 249ms/step - loss: 0.4135 - val_loss: 2.1137\n",
      "Epoch 25/25\n",
      "392/392 [==============================] - 98s 251ms/step - loss: 0.3873 - val_loss: 2.0236\n"
     ]
    },
    {
     "data": {
      "text/plain": [
       "<keras.callbacks.callbacks.History at 0x7f446855af98>"
      ]
     },
     "execution_count": 19,
     "metadata": {},
     "output_type": "execute_result"
    }
   ],
   "source": [
    "#traing model\n",
    "model.fit_generator(generator=generate_batch(source1_train, source2_train, target_train, batch_size=64),steps_per_epoch = len(source1_train)//64, validation_data=generate_batch(source1_test, source2_test, target_test, batch_size=64), validation_steps=len(source1_test)//64, epochs = 25)"
   ]
  },
  {
   "cell_type": "code",
   "execution_count": 20,
   "metadata": {},
   "outputs": [
    {
     "data": {
      "text/plain": [
       "13566"
      ]
     },
     "execution_count": 20,
     "metadata": {},
     "output_type": "execute_result"
    }
   ],
   "source": [
    "len(target_tokens)"
   ]
  }
 ],
 "metadata": {
  "kernelspec": {
   "display_name": "Python 3",
   "language": "python",
   "name": "python3"
  },
  "language_info": {
   "codemirror_mode": {
    "name": "ipython",
    "version": 3
   },
   "file_extension": ".py",
   "mimetype": "text/x-python",
   "name": "python",
   "nbconvert_exporter": "python",
   "pygments_lexer": "ipython3",
   "version": "3.6.6"
  }
 },
 "nbformat": 4,
 "nbformat_minor": 1
}
